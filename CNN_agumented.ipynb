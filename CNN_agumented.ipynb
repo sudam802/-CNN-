{
  "nbformat": 4,
  "nbformat_minor": 0,
  "metadata": {
    "colab": {
      "provenance": [],
      "authorship_tag": "ABX9TyPPdFkwG6++COGOwh5tgor3",
      "include_colab_link": true
    },
    "kernelspec": {
      "name": "python3",
      "display_name": "Python 3"
    },
    "language_info": {
      "name": "python"
    }
  },
  "cells": [
    {
      "cell_type": "markdown",
      "metadata": {
        "id": "view-in-github",
        "colab_type": "text"
      },
      "source": [
        "<a href=\"https://colab.research.google.com/github/sudam802/-CNN-/blob/main/CNN_agumented.ipynb\" target=\"_parent\"><img src=\"https://colab.research.google.com/assets/colab-badge.svg\" alt=\"Open In Colab\"/></a>"
      ]
    },
    {
      "cell_type": "markdown",
      "source": [
        "* CNN"
      ],
      "metadata": {
        "id": "7eKIm-EwnOm-"
      }
    },
    {
      "cell_type": "markdown",
      "source": [
        "**cats and dogs dataset taken from the google apis**\n"
      ],
      "metadata": {
        "id": "0lib7YdINsnt"
      }
    },
    {
      "cell_type": "code",
      "source": [
        "import tensorflow as tf\n",
        "import os\n",
        "import matplotlib.pyplot as plt\n",
        "from zipfile import ZipFile\n",
        "\n",
        "# Step 1: Download and extract the dataset\n",
        "url = 'https://storage.googleapis.com/mledu-datasets/cats_and_dogs_filtered.zip'\n",
        "zip_file = tf.keras.utils.get_file('cats_and_dogs.zip', origin=url, extract=True)\n",
        "\n"
      ],
      "metadata": {
        "id": "o_N910JoocY2",
        "colab": {
          "base_uri": "https://localhost:8080/"
        },
        "collapsed": true,
        "outputId": "4d561b02-0371-4ea6-b7c5-59f271b285c0"
      },
      "execution_count": null,
      "outputs": [
        {
          "output_type": "stream",
          "name": "stdout",
          "text": [
            "Downloading data from https://storage.googleapis.com/mledu-datasets/cats_and_dogs_filtered.zip\n",
            "68606236/68606236 [==============================] - 1s 0us/step\n"
          ]
        }
      ]
    },
    {
      "cell_type": "markdown",
      "source": [
        "**Making the direcctory seperate for the test set and the training set**\n",
        "\n",
        "\n",
        "*   training_data\n",
        "*   Testing_data\n",
        "\n"
      ],
      "metadata": {
        "id": "5x9j1nShN6Qj"
      }
    },
    {
      "cell_type": "code",
      "source": [
        "# Define directories for training and testing data\n",
        "base_dir = os.path.join(os.path.dirname(zip_file), 'cats_and_dogs_filtered')\n",
        "\n",
        "# Directories for training and test sets\n",
        "train_dir = os.path.join(base_dir, 'train')\n",
        "test_dir = os.path.join(base_dir, 'validation')"
      ],
      "metadata": {
        "id": "gI2s9VCbJEtX"
      },
      "execution_count": null,
      "outputs": []
    },
    {
      "cell_type": "markdown",
      "source": [
        "*Image augmentation used to reduce overfitting*\n",
        "\n",
        "\n",
        "* rescale: 1./255 – This rescales the pixel values of images from a range of 0-255 to a range of 0-1.\n",
        "* shear_range: 0.2 – this angles the images randomly\n",
        "* zoom_range: 0.2 – This randomly zooms into images by up to 20%.\n",
        "* horizontal_flip: True – This randomly flips images horizontally.\n",
        "\n"
      ],
      "metadata": {
        "id": "86aKj3ue5iza"
      }
    },
    {
      "cell_type": "code",
      "source": [
        "import tensorflow as tf\n",
        "from keras.preprocessing.image import ImageDataGenerator\n",
        "tf.__version__\n",
        "\n",
        "# Part 1 - Data Preprocessing\n",
        "\n",
        "# Preprocessing the Training set\n",
        "train_datagen = ImageDataGenerator(rescale = 1./255,\n",
        "                                   shear_range = 0.2,\n",
        "                                   zoom_range = 0.2,\n",
        "                                   horizontal_flip = True)\n",
        "training_set = train_datagen.flow_from_directory(train_dir,\n",
        "                                                 target_size = (64, 64),\n",
        "                                                 batch_size = 32,\n",
        "                                                 class_mode = 'binary')\n",
        "\n",
        "# Preprocessing the Test set\n",
        "test_datagen = ImageDataGenerator(rescale = 1./255)\n",
        "test_set = test_datagen.flow_from_directory(test_dir,\n",
        "                                            target_size = (64, 64),\n",
        "                                            batch_size = 32,\n",
        "                                            class_mode = 'binary')"
      ],
      "metadata": {
        "id": "s3d8_-xq_giz"
      },
      "execution_count": null,
      "outputs": []
    },
    {
      "cell_type": "markdown",
      "source": [
        "*Connecting the Convolution layer*\n",
        "  *  Two convolutional layers was made\n",
        "  * Fully connceted neural netwok is generated"
      ],
      "metadata": {
        "id": "lzQ2_YRQAUPN"
      }
    },
    {
      "cell_type": "code",
      "source": [
        "# Part 2 - Building the CNN\n",
        "\n",
        "# Initialising the CNN\n",
        "cnn = tf.keras.models.Sequential()\n",
        "\n",
        "# Step 1 - Convolution\n",
        "cnn.add(tf.keras.layers.Conv2D(filters=32, kernel_size=3, activation='relu', input_shape=[64, 64, 3]))\n",
        "\n",
        "# Step 2 - Pooling\n",
        "cnn.add(tf.keras.layers.MaxPool2D(pool_size=2, strides=2))\n",
        "\n",
        "# Adding a second convolutional layer\n",
        "cnn.add(tf.keras.layers.Conv2D(filters=32, kernel_size=3, activation='relu'))\n",
        "cnn.add(tf.keras.layers.MaxPool2D(pool_size=2, strides=2))\n",
        "\n",
        "# Adding the third convolution layer\n",
        "\n",
        "# Step 3 - Flattening\n",
        "cnn.add(tf.keras.layers.Flatten())\n",
        "\n",
        "# Step 4 - Full Connection\n",
        "cnn.add(tf.keras.layers.Dense(units=128, activation='relu'))\n",
        "\n",
        "# Step 5 - Output Layer\n",
        "cnn.add(tf.keras.layers.Dense(units=1, activation='sigmoid'))\n",
        "cnn.compile(optimizer = 'adam', loss = 'binary_crossentropy', metrics = ['accuracy'])\n",
        "\n",
        "# Training the CNN on the Training set and evaluating it on the Test set\n",
        "cnn.fit(x = training_set, validation_data = test_set, epochs = 25)\n",
        ""
      ],
      "metadata": {
        "id": "3Rra0OT3Ad6b"
      },
      "execution_count": null,
      "outputs": []
    },
    {
      "cell_type": "markdown",
      "source": [
        "**prediction**"
      ],
      "metadata": {
        "id": "4v9z1TM1A12e"
      }
    },
    {
      "cell_type": "code",
      "source": [
        "\n",
        "import numpy as np\n",
        "from keras.preprocessing import image\n",
        "\n",
        "new_image=image.load_img('man.jpg', target_size=(64, 64))\n",
        "print(new_image)\n",
        "img_array = image.img_to_array(new_image)\n",
        "img_array = np.expand_dims(img_array, axis=0)\n",
        "\n",
        "img_array = img_array / 255.\n",
        "\n",
        "# Make prediction\n",
        "prediction = cnn.predict(img_array)\n",
        "print(prediction)\n",
        "if prediction > 0.5:\n",
        "    print('Dog')\n",
        "else:\n",
        "    print('Cat')"
      ],
      "metadata": {
        "id": "NUNlf5Y8A-av"
      },
      "execution_count": null,
      "outputs": []
    }
  ]
}