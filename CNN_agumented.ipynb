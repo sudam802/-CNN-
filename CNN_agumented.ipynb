{
  "nbformat": 4,
  "nbformat_minor": 0,
  "metadata": {
    "colab": {
      "provenance": [],
      "authorship_tag": "ABX9TyPxUKAfdZ4FzemDnBdfqtZ8",
      "include_colab_link": true
    },
    "kernelspec": {
      "name": "python3",
      "display_name": "Python 3"
    },
    "language_info": {
      "name": "python"
    }
  },
  "cells": [
    {
      "cell_type": "markdown",
      "metadata": {
        "id": "view-in-github",
        "colab_type": "text"
      },
      "source": [
        "<a href=\"https://colab.research.google.com/github/sudam802/-CNN-/blob/main/CNN_agumented.ipynb\" target=\"_parent\"><img src=\"https://colab.research.google.com/assets/colab-badge.svg\" alt=\"Open In Colab\"/></a>"
      ]
    },
    {
      "cell_type": "markdown",
      "source": [
        "* CNN"
      ],
      "metadata": {
        "id": "7eKIm-EwnOm-"
      }
    },
    {
      "cell_type": "markdown",
      "source": [
        "**Importing tensorflow and the cats and dogs data set from goole apis**"
      ],
      "metadata": {
        "id": "0lib7YdINsnt"
      }
    },
    {
      "cell_type": "code",
      "source": [
        "import tensorflow as tf\n",
        "import os\n",
        "import matplotlib.pyplot as plt\n",
        "from zipfile import ZipFile\n",
        "\n",
        "# Step 1: Download and extract the dataset\n",
        "url = 'https://storage.googleapis.com/mledu-datasets/cats_and_dogs_filtered.zip'\n",
        "zip_file = tf.keras.utils.get_file('cats_and_dogs.zip', origin=url, extract=True)\n",
        "\n"
      ],
      "metadata": {
        "id": "o_N910JoocY2",
        "colab": {
          "base_uri": "https://localhost:8080/"
        },
        "collapsed": true,
        "outputId": "4d561b02-0371-4ea6-b7c5-59f271b285c0"
      },
      "execution_count": null,
      "outputs": [
        {
          "output_type": "stream",
          "name": "stdout",
          "text": [
            "Downloading data from https://storage.googleapis.com/mledu-datasets/cats_and_dogs_filtered.zip\n",
            "68606236/68606236 [==============================] - 1s 0us/step\n"
          ]
        }
      ]
    },
    {
      "cell_type": "code",
      "source": [],
      "metadata": {
        "id": "9fib5VYDE0Bo"
      },
      "execution_count": null,
      "outputs": []
    },
    {
      "cell_type": "markdown",
      "source": [
        "Making the direcctory seperate for the test set and the training set"
      ],
      "metadata": {
        "id": "5x9j1nShN6Qj"
      }
    },
    {
      "cell_type": "code",
      "source": [
        "# Define directories for training and testing data\n",
        "base_dir = os.path.join(os.path.dirname(zip_file), 'cats_and_dogs_filtered')\n",
        "\n",
        "# Directories for training and test sets\n",
        "train_dir = os.path.join(base_dir, 'train')\n",
        "test_dir = os.path.join(base_dir, 'validation')"
      ],
      "metadata": {
        "id": "gI2s9VCbJEtX"
      },
      "execution_count": null,
      "outputs": []
    },
    {
      "cell_type": "markdown",
      "source": [
        "Image augmentation used to reduce overfitting\n"
      ],
      "metadata": {
        "id": "86aKj3ue5iza"
      }
    },
    {
      "cell_type": "code",
      "source": [
        "import tensorflow as tf\n",
        "from keras.preprocessing.image import ImageDataGenerator\n",
        "tf.__version__\n",
        "\n",
        "# Part 1 - Data Preprocessing\n",
        "\n",
        "# Preprocessing the Training set\n",
        "train_datagen = ImageDataGenerator(rescale = 1./255,\n",
        "                                   shear_range = 0.2,\n",
        "                                   zoom_range = 0.2,\n",
        "                                   horizontal_flip = True)\n",
        "training_set = train_datagen.flow_from_directory(train_dir,\n",
        "                                                 target_size = (64, 64),\n",
        "                                                 batch_size = 32,\n",
        "                                                 class_mode = 'binary')\n",
        "\n",
        "# Preprocessing the Test set\n",
        "test_datagen = ImageDataGenerator(rescale = 1./255)\n",
        "test_set = test_datagen.flow_from_directory(test_dir,\n",
        "                                            target_size = (64, 64),\n",
        "                                            batch_size = 32,\n",
        "                                            class_mode = 'binary')\n",
        "\n",
        "# Part 2 - Building the CNN\n",
        "\n",
        "# Initialising the CNN\n",
        "cnn = tf.keras.models.Sequential()\n",
        "\n",
        "# Step 1 - Convolution\n",
        "cnn.add(tf.keras.layers.Conv2D(filters=32, kernel_size=3, activation='relu', input_shape=[64, 64, 3]))\n",
        "\n",
        "# Step 2 - Pooling\n",
        "cnn.add(tf.keras.layers.MaxPool2D(pool_size=2, strides=2))\n",
        "\n",
        "# Adding a second convolutional layer\n",
        "cnn.add(tf.keras.layers.Conv2D(filters=32, kernel_size=3, activation='relu'))\n",
        "cnn.add(tf.keras.layers.MaxPool2D(pool_size=2, strides=2))\n",
        "\n",
        "# Adding the third convolution layer\n",
        "\n",
        "# Step 3 - Flattening\n",
        "cnn.add(tf.keras.layers.Flatten())\n",
        "\n",
        "# Step 4 - Full Connection\n",
        "cnn.add(tf.keras.layers.Dense(units=128, activation='relu'))\n",
        "\n",
        "# Step 5 - Output Layer\n",
        "cnn.add(tf.keras.layers.Dense(units=1, activation='sigmoid'))\n",
        "\n",
        "# Part 3 - Training the CNN\n",
        "\n",
        "# Compiling the CNN\n",
        "cnn.compile(optimizer = 'adam', loss = 'binary_crossentropy', metrics = ['accuracy'])\n",
        "\n",
        "# Training the CNN on the Training set and evaluating it on the Test set\n",
        "cnn.fit(x = training_set, validation_data = test_set, epochs = 25)"
      ],
      "metadata": {
        "colab": {
          "base_uri": "https://localhost:8080/"
        },
        "id": "E56D6rid60ye",
        "outputId": "cad10e8a-36a4-48f0-9b9c-2ef1c9bc6feb"
      },
      "execution_count": null,
      "outputs": [
        {
          "output_type": "stream",
          "name": "stdout",
          "text": [
            "Found 2000 images belonging to 2 classes.\n",
            "Found 1000 images belonging to 2 classes.\n",
            "Epoch 1/25\n",
            "63/63 [==============================] - 17s 238ms/step - loss: 0.6935 - accuracy: 0.5155 - val_loss: 0.6869 - val_accuracy: 0.5750\n",
            "Epoch 2/25\n",
            "63/63 [==============================] - 16s 251ms/step - loss: 0.6906 - accuracy: 0.5535 - val_loss: 0.6861 - val_accuracy: 0.5150\n",
            "Epoch 3/25\n",
            "63/63 [==============================] - 15s 231ms/step - loss: 0.6799 - accuracy: 0.5720 - val_loss: 0.6745 - val_accuracy: 0.5640\n",
            "Epoch 4/25\n",
            "63/63 [==============================] - 14s 227ms/step - loss: 0.6403 - accuracy: 0.6505 - val_loss: 0.6339 - val_accuracy: 0.6380\n",
            "Epoch 5/25\n",
            "63/63 [==============================] - 14s 227ms/step - loss: 0.6085 - accuracy: 0.6740 - val_loss: 0.7324 - val_accuracy: 0.5940\n",
            "Epoch 6/25\n",
            "63/63 [==============================] - 15s 230ms/step - loss: 0.6002 - accuracy: 0.6745 - val_loss: 0.5714 - val_accuracy: 0.7100\n",
            "Epoch 7/25\n",
            "63/63 [==============================] - 15s 231ms/step - loss: 0.5790 - accuracy: 0.6915 - val_loss: 0.5782 - val_accuracy: 0.7040\n",
            "Epoch 8/25\n",
            "63/63 [==============================] - 18s 288ms/step - loss: 0.5574 - accuracy: 0.7200 - val_loss: 0.5595 - val_accuracy: 0.6990\n",
            "Epoch 9/25\n",
            "63/63 [==============================] - 16s 252ms/step - loss: 0.5471 - accuracy: 0.7335 - val_loss: 0.5844 - val_accuracy: 0.6960\n",
            "Epoch 10/25\n",
            "63/63 [==============================] - 16s 254ms/step - loss: 0.5269 - accuracy: 0.7365 - val_loss: 0.5554 - val_accuracy: 0.7240\n",
            "Epoch 11/25\n",
            "63/63 [==============================] - 17s 272ms/step - loss: 0.5284 - accuracy: 0.7380 - val_loss: 0.5728 - val_accuracy: 0.6850\n",
            "Epoch 12/25\n",
            "63/63 [==============================] - 16s 246ms/step - loss: 0.5105 - accuracy: 0.7545 - val_loss: 0.6190 - val_accuracy: 0.6800\n",
            "Epoch 13/25\n",
            "63/63 [==============================] - 15s 240ms/step - loss: 0.4851 - accuracy: 0.7665 - val_loss: 0.5703 - val_accuracy: 0.7250\n",
            "Epoch 14/25\n",
            "63/63 [==============================] - 15s 242ms/step - loss: 0.4781 - accuracy: 0.7730 - val_loss: 0.5837 - val_accuracy: 0.7060\n",
            "Epoch 15/25\n",
            "63/63 [==============================] - 15s 240ms/step - loss: 0.4792 - accuracy: 0.7740 - val_loss: 0.5347 - val_accuracy: 0.7240\n",
            "Epoch 16/25\n",
            "63/63 [==============================] - 15s 233ms/step - loss: 0.4651 - accuracy: 0.7815 - val_loss: 0.5329 - val_accuracy: 0.7400\n",
            "Epoch 17/25\n",
            "63/63 [==============================] - 14s 229ms/step - loss: 0.4532 - accuracy: 0.7795 - val_loss: 0.5504 - val_accuracy: 0.7140\n",
            "Epoch 18/25\n",
            "63/63 [==============================] - 14s 229ms/step - loss: 0.4464 - accuracy: 0.7855 - val_loss: 0.5326 - val_accuracy: 0.7430\n",
            "Epoch 19/25\n",
            "63/63 [==============================] - 16s 248ms/step - loss: 0.4355 - accuracy: 0.8055 - val_loss: 0.5575 - val_accuracy: 0.7430\n",
            "Epoch 20/25\n",
            "63/63 [==============================] - 15s 240ms/step - loss: 0.4264 - accuracy: 0.7985 - val_loss: 0.5281 - val_accuracy: 0.7520\n",
            "Epoch 21/25\n",
            "63/63 [==============================] - 15s 231ms/step - loss: 0.4000 - accuracy: 0.8215 - val_loss: 0.5471 - val_accuracy: 0.7440\n",
            "Epoch 22/25\n",
            "63/63 [==============================] - 15s 239ms/step - loss: 0.3818 - accuracy: 0.8330 - val_loss: 0.5170 - val_accuracy: 0.7600\n",
            "Epoch 23/25\n",
            "63/63 [==============================] - 15s 234ms/step - loss: 0.3848 - accuracy: 0.8250 - val_loss: 0.6563 - val_accuracy: 0.7160\n",
            "Epoch 24/25\n",
            "63/63 [==============================] - 15s 231ms/step - loss: 0.3701 - accuracy: 0.8395 - val_loss: 0.5369 - val_accuracy: 0.7620\n",
            "Epoch 25/25\n",
            "63/63 [==============================] - 17s 273ms/step - loss: 0.3738 - accuracy: 0.8365 - val_loss: 0.6826 - val_accuracy: 0.6910\n"
          ]
        },
        {
          "output_type": "execute_result",
          "data": {
            "text/plain": [
              "<keras.src.callbacks.History at 0x7d08d8e491b0>"
            ]
          },
          "metadata": {},
          "execution_count": 7
        }
      ]
    },
    {
      "cell_type": "code",
      "source": [
        "import numpy as np\n",
        "from keras.preprocessing import image\n",
        "\n",
        "new_image=image.load_img('man.jpg', target_size=(64, 64))\n",
        "print(new_image)\n",
        "img_array = image.img_to_array(new_image)\n",
        "img_array = np.expand_dims(img_array, axis=0)\n",
        "\n",
        "img_array = img_array / 255.\n",
        "\n",
        "# Make prediction\n",
        "prediction = cnn.predict(img_array)\n",
        "print(prediction)\n",
        "if prediction > 0.5:\n",
        "    print('Dog')\n",
        "else:\n",
        "    print('Cat')"
      ],
      "metadata": {
        "colab": {
          "base_uri": "https://localhost:8080/"
        },
        "id": "209snq3ZO3W4",
        "outputId": "b02184ef-208e-4057-e9cd-117a36a4f26e"
      },
      "execution_count": null,
      "outputs": [
        {
          "output_type": "stream",
          "name": "stdout",
          "text": [
            "<PIL.Image.Image image mode=RGB size=64x64 at 0x7D09761B1EA0>\n",
            "1/1 [==============================] - 0s 36ms/step\n",
            "[[0.26018268]]\n",
            "Cat\n"
          ]
        }
      ]
    },
    {
      "cell_type": "code",
      "source": [
        "classes=training_set.class_indices\n",
        "print(classes)"
      ],
      "metadata": {
        "colab": {
          "base_uri": "https://localhost:8080/"
        },
        "id": "yf5vaoJaRl2n",
        "outputId": "bebcbaf7-b33a-4e59-d8ee-0049aa79d269"
      },
      "execution_count": null,
      "outputs": [
        {
          "output_type": "stream",
          "name": "stdout",
          "text": [
            "{'cats': 0, 'dogs': 1}\n"
          ]
        }
      ]
    },
    {
      "cell_type": "markdown",
      "source": [
        "Making the classic ANN"
      ],
      "metadata": {
        "id": "GFzKzW8Y0m6G"
      }
    },
    {
      "cell_type": "markdown",
      "source": [],
      "metadata": {
        "id": "GZUKtiiOnQkR"
      }
    }
  ]
}